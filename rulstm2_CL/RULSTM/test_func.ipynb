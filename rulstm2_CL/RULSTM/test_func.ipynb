{
 "cells": [
  {
   "cell_type": "code",
   "execution_count": 2,
   "metadata": {},
   "outputs": [],
   "source": [
    "import pandas as pd\n",
    "\n",
    "def get_noun_verb_lists(activity_list, csv_file_path):\n",
    "    \"\"\"\n",
    "    根据输入的 activity 类别序号列表，从指定的 CSV 文件中查找对应的 noun 类别和 verb 类别，\n",
    "    并返回按顺序排列的 noun_list 和 verb_list。\n",
    "\n",
    "    参数:\n",
    "        activity_list (list): activity 类别序号列表，对应 CSV 文件中的 id 列。\n",
    "        csv_file_path (str): CSV 文件路径，要求文件中包含 \"id\", \"verb\", \"noun\", \"action\" 四列。\n",
    "\n",
    "    返回:\n",
    "        tuple: (noun_list, verb_list) 分别为查找到的 noun 类别列表和 verb 类别列表。\n",
    "    \"\"\"\n",
    "    # 读取 CSV 文件\n",
    "    df = pd.read_csv(csv_file_path)\n",
    "\n",
    "    # 初始化输出列表\n",
    "    noun_list = []\n",
    "    verb_list = []\n",
    "\n",
    "    # 遍历输入的 activity 序号列表\n",
    "    for activity_id in activity_list:\n",
    "        # 根据 id 过滤 DataFrame，假设每个 id 对应唯一的一行数据\n",
    "        row = df[df['id'] == activity_id]\n",
    "        if not row.empty:\n",
    "            # 提取对应的 noun 和 verb\n",
    "            noun_list.append(row.iloc[0]['noun'])\n",
    "            verb_list.append(row.iloc[0]['verb'])\n",
    "        else:\n",
    "            # 如果找不到匹配的 activity_id，则添加 None（也可以根据需要抛出异常）\n",
    "            noun_list.append(None)\n",
    "            verb_list.append(None)\n",
    "            \n",
    "    return noun_list, verb_list\n",
    "\n"
   ]
  },
  {
   "cell_type": "code",
   "execution_count": null,
   "metadata": {},
   "outputs": [
    {
     "name": "stdout",
     "output_type": "stream",
     "text": [
      "Noun list: [20, 37, 7]\n",
      "Verb list: [10, 11, 0]\n"
     ]
    }
   ],
   "source": [
    "# 示例使用\n",
    "if __name__ == \"__main__\":\n",
    "    csv_path = \"/root/autodl-tmp/EPIC100/actions.csv\"  # 请替换为你的 CSV 文件实际路径\n",
    "    activities = [300,455,233]         # 示例输入 activity 类别序号列表\n",
    "    nouns, verbs = get_noun_verb_lists(activities, csv_path)\n",
    "    print(\"Noun list:\", nouns) # Noun list: [20, 37, 7]\n",
    "    print(\"Verb list:\", verbs) # Verb list: [10, 11, 0]"
   ]
  }
 ],
 "metadata": {
  "kernelspec": {
   "display_name": "vmamba2",
   "language": "python",
   "name": "python3"
  },
  "language_info": {
   "codemirror_mode": {
    "name": "ipython",
    "version": 3
   },
   "file_extension": ".py",
   "mimetype": "text/x-python",
   "name": "python",
   "nbconvert_exporter": "python",
   "pygments_lexer": "ipython3",
   "version": "3.10.14"
  }
 },
 "nbformat": 4,
 "nbformat_minor": 2
}
