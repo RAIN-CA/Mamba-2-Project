{
 "cells": [
  {
   "cell_type": "code",
   "execution_count": 1,
   "metadata": {},
   "outputs": [
    {
     "ename": "Error",
     "evalue": "autodl-tmp/ek55/rgb/data.mdb: No such file or directory",
     "output_type": "error",
     "traceback": [
      "\u001b[0;31m---------------------------------------------------------------------------\u001b[0m",
      "\u001b[0;31mError\u001b[0m                                     Traceback (most recent call last)",
      "Cell \u001b[0;32mIn[1], line 52\u001b[0m\n\u001b[1;32m     49\u001b[0m     env\u001b[38;5;241m.\u001b[39mclose()\n\u001b[1;32m     51\u001b[0m \u001b[38;5;66;03m# 使用示例\u001b[39;00m\n\u001b[0;32m---> 52\u001b[0m \u001b[43minspect_lmdb\u001b[49m\u001b[43m(\u001b[49m\u001b[38;5;124;43m'\u001b[39;49m\u001b[38;5;124;43mautodl-tmp/ek55/rgb/data.mdb\u001b[39;49m\u001b[38;5;124;43m'\u001b[39;49m\u001b[43m,\u001b[49m\u001b[43m \u001b[49m\u001b[43mnum_samples\u001b[49m\u001b[38;5;241;43m=\u001b[39;49m\u001b[38;5;241;43m3\u001b[39;49m\u001b[43m)\u001b[49m\n",
      "Cell \u001b[0;32mIn[1], line 16\u001b[0m, in \u001b[0;36minspect_lmdb\u001b[0;34m(lmdb_path, num_samples)\u001b[0m\n\u001b[1;32m      8\u001b[0m \u001b[38;5;28;01mdef\u001b[39;00m \u001b[38;5;21minspect_lmdb\u001b[39m(lmdb_path, num_samples\u001b[38;5;241m=\u001b[39m\u001b[38;5;241m5\u001b[39m):\n\u001b[1;32m      9\u001b[0m \u001b[38;5;250m    \u001b[39m\u001b[38;5;124;03m\"\"\"\u001b[39;00m\n\u001b[1;32m     10\u001b[0m \u001b[38;5;124;03m    检查 LMDB 数据集的内部结构。\u001b[39;00m\n\u001b[1;32m     11\u001b[0m \n\u001b[0;32m   (...)\u001b[0m\n\u001b[1;32m     14\u001b[0m \u001b[38;5;124;03m        num_samples (int): 要查看的样本数量。\u001b[39;00m\n\u001b[1;32m     15\u001b[0m \u001b[38;5;124;03m    \"\"\"\u001b[39;00m\n\u001b[0;32m---> 16\u001b[0m     env \u001b[38;5;241m=\u001b[39m \u001b[43mlmdb\u001b[49m\u001b[38;5;241;43m.\u001b[39;49m\u001b[43mopen\u001b[49m\u001b[43m(\u001b[49m\u001b[43mlmdb_path\u001b[49m\u001b[43m,\u001b[49m\u001b[43m \u001b[49m\u001b[43mreadonly\u001b[49m\u001b[38;5;241;43m=\u001b[39;49m\u001b[38;5;28;43;01mTrue\u001b[39;49;00m\u001b[43m,\u001b[49m\u001b[43m \u001b[49m\u001b[43mlock\u001b[49m\u001b[38;5;241;43m=\u001b[39;49m\u001b[38;5;28;43;01mFalse\u001b[39;49;00m\u001b[43m,\u001b[49m\u001b[43m \u001b[49m\u001b[43mreadahead\u001b[49m\u001b[38;5;241;43m=\u001b[39;49m\u001b[38;5;28;43;01mFalse\u001b[39;49;00m\u001b[43m,\u001b[49m\u001b[43m \u001b[49m\u001b[43mmeminit\u001b[49m\u001b[38;5;241;43m=\u001b[39;49m\u001b[38;5;28;43;01mFalse\u001b[39;49;00m\u001b[43m)\u001b[49m\n\u001b[1;32m     17\u001b[0m     \u001b[38;5;28;01mwith\u001b[39;00m env\u001b[38;5;241m.\u001b[39mbegin(write\u001b[38;5;241m=\u001b[39m\u001b[38;5;28;01mFalse\u001b[39;00m) \u001b[38;5;28;01mas\u001b[39;00m txn:\n\u001b[1;32m     18\u001b[0m         cursor \u001b[38;5;241m=\u001b[39m txn\u001b[38;5;241m.\u001b[39mcursor()\n",
      "\u001b[0;31mError\u001b[0m: autodl-tmp/ek55/rgb/data.mdb: No such file or directory"
     ]
    }
   ],
   "source": [
    "import lmdb\n",
    "import pickle\n",
    "import numpy as np\n",
    "import torch\n",
    "from PIL import Image\n",
    "import matplotlib.pyplot as plt\n",
    "\n",
    "def inspect_lmdb(lmdb_path, num_samples=5):\n",
    "    \"\"\"\n",
    "    检查 LMDB 数据集的内部结构。\n",
    "\n",
    "    Args:\n",
    "        lmdb_path (str): LMDB 数据集的路径。\n",
    "        num_samples (int): 要查看的样本数量。\n",
    "    \"\"\"\n",
    "    env = lmdb.open(lmdb_path, readonly=True, lock=False, readahead=False, meminit=False)\n",
    "    with env.begin(write=False) as txn:\n",
    "        cursor = txn.cursor()\n",
    "        count = 0\n",
    "        for key, value in cursor:\n",
    "            unpacked = pickle.loads(value)\n",
    "            img, label = unpacked\n",
    "\n",
    "            print(f\"样本 {count}:\")\n",
    "            print(f\"键（Key）：{key.decode('utf-8')}\")\n",
    "            print(f\"图像特征类型：{type(img)}\")\n",
    "            if isinstance(img, np.ndarray):\n",
    "                print(f\"图像特征形状：{img.shape}\")\n",
    "            elif isinstance(img, torch.Tensor):\n",
    "                print(f\"图像特征形状：{img.size()}\")\n",
    "            print(f\"标签（Label）：{label}\")\n",
    "            print(\"-\" * 50)\n",
    "\n",
    "            # 如果图像特征可以转回图像进行可视化（取决于你的特征类型）\n",
    "            # 这里假设 img 是图像的 NumPy 数组\n",
    "            if isinstance(img, np.ndarray) and img.ndim == 3:\n",
    "                # 反归一化（如果有必要）\n",
    "                img_display = img.copy()\n",
    "                if img_display.max() > 1.0:\n",
    "                    img_display = img_display / 255.0\n",
    "                plt.imshow(img_display)\n",
    "                plt.title(f\"Sample {count} Label: {label}\")\n",
    "                plt.show()\n",
    "\n",
    "            count += 1\n",
    "            if count >= num_samples:\n",
    "                break\n",
    "\n",
    "    env.close()\n",
    "\n",
    "# 使用示例\n",
    "inspect_lmdb('autodl-tmp/ek55/rgb/data.mdb', num_samples=3)\n"
   ]
  }
 ],
 "metadata": {
  "kernelspec": {
   "display_name": "vmamba2",
   "language": "python",
   "name": "python3"
  },
  "language_info": {
   "codemirror_mode": {
    "name": "ipython",
    "version": 3
   },
   "file_extension": ".py",
   "mimetype": "text/x-python",
   "name": "python",
   "nbconvert_exporter": "python",
   "pygments_lexer": "ipython3",
   "version": "3.10.14"
  }
 },
 "nbformat": 4,
 "nbformat_minor": 2
}
