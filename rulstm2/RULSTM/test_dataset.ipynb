{
 "cells": [
  {
   "cell_type": "code",
   "execution_count": null,
   "metadata": {},
   "outputs": [
    {
     "name": "stdout",
     "output_type": "stream",
     "text": [
      "Data for key 'P10_03_frame_0000000001.jpg':\n",
      "[[-0.24182129 -0.04074097 -0.5517578  ...  0.08654785 -0.61083984\n",
      "   0.2355957 ]\n",
      " [ 0.6464844  -0.5888672  -0.9604492  ... -0.18591309 -0.38671875\n",
      "   1.4248047 ]\n",
      " [ 0.7241211   0.02111816  0.56152344 ...  0.10437012  1.4521484\n",
      "   0.98339844]\n",
      " ...\n",
      " [ 1.6992188  -0.5942383  -0.3178711  ... -0.25390625  0.86279297\n",
      "   0.4074707 ]\n",
      " [ 1.9472656  -1.9550781  -0.7421875  ...  0.1850586   0.3046875\n",
      "   0.20166016]\n",
      " [ 0.81933594 -1.1923828  -0.89941406 ...  0.59375    -0.2088623\n",
      "  -0.6582031 ]]\n"
     ]
    },
    {
     "data": {
      "text/plain": [
       "array([[-0.24182129, -0.04074097, -0.5517578 , ...,  0.08654785,\n",
       "        -0.61083984,  0.2355957 ],\n",
       "       [ 0.6464844 , -0.5888672 , -0.9604492 , ..., -0.18591309,\n",
       "        -0.38671875,  1.4248047 ],\n",
       "       [ 0.7241211 ,  0.02111816,  0.56152344, ...,  0.10437012,\n",
       "         1.4521484 ,  0.98339844],\n",
       "       ...,\n",
       "       [ 1.6992188 , -0.5942383 , -0.3178711 , ..., -0.25390625,\n",
       "         0.86279297,  0.4074707 ],\n",
       "       [ 1.9472656 , -1.9550781 , -0.7421875 , ...,  0.1850586 ,\n",
       "         0.3046875 ,  0.20166016],\n",
       "       [ 0.81933594, -1.1923828 , -0.89941406, ...,  0.59375   ,\n",
       "        -0.2088623 , -0.6582031 ]], dtype=float32)"
      ]
     },
     "execution_count": 2,
     "metadata": {},
     "output_type": "execute_result"
    }
   ],
   "source": [
    "import lmdb\n",
    "import numpy as np\n",
    "\n",
    "def read_lmdb_value(lmdb_path, key):\n",
    "    \"\"\"Reads the value associated with a key from an LMDB dataset.\"\"\"\n",
    "    try:\n",
    "        # Open the LMDB environment in read-only mode\n",
    "        env = lmdb.open(lmdb_path, readonly=True, lock=False)\n",
    "        \n",
    "        # Start a read-only transaction\n",
    "        with env.begin() as txn:\n",
    "            # Fetch the data associated with the given key\n",
    "            data = txn.get(key.encode('utf-8'))\n",
    "            \n",
    "            if data is None:\n",
    "                print(f\"Key '{key}' not found in LMDB.\")\n",
    "                return None\n",
    "            \n",
    "            # Convert the binary data into a numpy array (same shape and type as before)\n",
    "            data_array = np.frombuffer(data, dtype='float16').reshape(197, 192).astype('float32')\n",
    "            \n",
    "            print(f\"Data for key '{key}':\")\n",
    "            print(data_array)\n",
    "            return data_array\n",
    "    except Exception as e:\n",
    "        print(f\"Error while reading LMDB: {e}\")\n",
    "        return None\n",
    "\n",
    "# Example usage:\n",
    "lmdb_path = '/root/autodl-tmp/ek100/lmdb'\n",
    "key = 'P10_04_frame_0000000001.jpg'  # Replace with the desired key\n",
    "read_lmdb_value(lmdb_path, key)"
   ]
  }
 ],
 "metadata": {
  "kernelspec": {
   "display_name": "vmamba2",
   "language": "python",
   "name": "python3"
  },
  "language_info": {
   "codemirror_mode": {
    "name": "ipython",
    "version": 3
   },
   "file_extension": ".py",
   "mimetype": "text/x-python",
   "name": "python",
   "nbconvert_exporter": "python",
   "pygments_lexer": "ipython3",
   "version": "3.10.14"
  }
 },
 "nbformat": 4,
 "nbformat_minor": 2
}
